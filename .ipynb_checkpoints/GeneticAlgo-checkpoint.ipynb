{
 "cells": [
  {
   "cell_type": "code",
   "execution_count": null,
   "metadata": {},
   "outputs": [],
   "source": [
    "import random"
   ]
  },
  {
   "cell_type": "code",
   "execution_count": null,
   "metadata": {},
   "outputs": [],
   "source": [
    "def calculateFitness(s): \n",
    "    return int(s,2) "
   ]
  },
  {
   "cell_type": "code",
   "execution_count": null,
   "metadata": {},
   "outputs": [],
   "source": [
    "def generateBinaryString(bits):\n",
    "    s = \"\"\n",
    "    for _ in range(bits):\n",
    "        \n",
    "        # randomly generate 0 or 1 and append to our string\n",
    "        randomNum = int(random.random()*2)\n",
    "        s = s + str(randomNum)\n",
    "        \n",
    "    return s"
   ]
  },
  {
   "cell_type": "code",
   "execution_count": null,
   "metadata": {},
   "outputs": [],
   "source": [
    "def getMinIndex(Array):\n",
    "    return Array.index(min(Array))\n",
    "\n",
    "def getMaxIndex(Array):\n",
    "    return Array.index(max(Array))"
   ]
  },
  {
   "cell_type": "code",
   "execution_count": null,
   "metadata": {},
   "outputs": [],
   "source": [
    "def getInitialPopulation(n,noOfbits):\n",
    "    BinArr=[]\n",
    "    fitness=[]\n",
    "\n",
    "    for i in range(n):\n",
    "        s=\"\"\n",
    "        s=generateBinaryString(noOfbits)\n",
    "        BinArr.append(s)\n",
    "        fitness.append(calculateFitness(s)) \n",
    "        \n",
    "    return BinArr,fitness"
   ]
  },
  {
   "cell_type": "code",
   "execution_count": null,
   "metadata": {},
   "outputs": [],
   "source": [
    "#selection\n",
    "\n",
    "def popMinAndUpdateLists(population,fitness):\n",
    "    \n",
    "    population[getMinIndex(fitness)]=population[getMaxIndex(fitness)]\n",
    "    fitness[getMinIndex(fitness)]=fitness[getMaxIndex(fitness)]\n",
    "    \n",
    "    return population,fitness"
   ]
  },
  {
   "cell_type": "code",
   "execution_count": null,
   "metadata": {},
   "outputs": [],
   "source": [
    "#crossover\n",
    "\n",
    "def performCrossover(population,fitness,bits):\n",
    "    \n",
    "    crossPoint=int(bits/2)\n",
    "    \n",
    "    if(len(population)%2==0):\n",
    "        x=len(population)\n",
    "    else:\n",
    "        x=len(population)-1\n",
    "        \n",
    "    for i in range(0,x,2):\n",
    "        temp1=population[i][:crossPoint]+population[i+1][crossPoint:]\n",
    "        temp2=population[i+1][:crossPoint]+population[i][crossPoint:]\n",
    "        population[i]=temp1\n",
    "        population[i+1]=temp2\n",
    "        fitness[i]=calculateFitness(population[i])\n",
    "        fitness[i+1]=calculateFitness(population[i+1])\n",
    "        \n",
    "    return population,fitness"
   ]
  },
  {
   "cell_type": "code",
   "execution_count": null,
   "metadata": {},
   "outputs": [],
   "source": [
    "#mutate\n",
    "\n",
    "def MutateOffspring(population,fitness,bits):\n",
    "    \n",
    "    mutatePosition=int(bits/2)+1\n",
    "    \n",
    "    for i in range(len(population)):\n",
    "\n",
    "        #Bit next to bits/2 will be mutated\n",
    "        if(population[i][mutatePosition]=='0'):\n",
    "            population[i]=population[i][:mutatePosition]+'1'+population[i][mutatePosition+1:]\n",
    "        else:\n",
    "            population[i]=population[i][:mutatePosition]+'0'+population[i][mutatePosition+1:]\n",
    "            \n",
    "        #calculate fitness of mutated population    \n",
    "        fitness[i]=calculateFitness(population[i])\n",
    "\n",
    "    return population,fitness"
   ]
  },
  {
   "cell_type": "code",
   "execution_count": null,
   "metadata": {},
   "outputs": [],
   "source": [
    "#Take user input\n",
    "\n",
    "noOfPopulations=int(input(\"enter no of initial populations: \"))\n",
    "bits=int(input(\"enter bits (minimum of 4) : \"))"
   ]
  },
  {
   "cell_type": "code",
   "execution_count": null,
   "metadata": {},
   "outputs": [],
   "source": [
    "# getting initial population and their respective fitness\n",
    "PopArr,fitnessArr=getInitialPopulation(noOfPopulations,bits)\n",
    "\n",
    "maxCondition=pow(2,bits)-1\n",
    "maxFitness=max(fitnessArr)\n",
    "\n",
    "print(PopArr)\n",
    "print(fitnessArr)\n",
    "\n",
    "if(maxFitness==maxCondition):\n",
    "    maxIndex=fitnessArr.index(maxFitness)\n",
    "    print(\"max condition fulfilled at initial condition --> \",PopArr[maxIndex],fitnessArr[maxIndex])\n",
    "else:\n",
    "    while(maxFitness!=maxCondition):\n",
    "        \n",
    "        #perform selection\n",
    "        PopArr,fitnessArr=popMinAndUpdateLists(PopArr,fitnessArr)\n",
    "        print(\"perform selection\")\n",
    "        print(PopArr)\n",
    "        print(fitnessArr)\n",
    "        \n",
    "        #crossover\n",
    "        PopArr,fitnessArr=performCrossover(PopArr,fitnessArr,bits)\n",
    "        print(\"crossover\")\n",
    "        print(PopArr)\n",
    "        print(fitnessArr)\n",
    "        \n",
    "        #mutation\n",
    "        PopArr,fitnessArr=MutateOffspring(PopArr,fitnessArr,bits)\n",
    "        print(\"mutation\")\n",
    "        print(PopArr)\n",
    "        print(fitnessArr)\n",
    "        \n",
    "        #update max fitness\n",
    "        maxFitness=max(fitnessArr)\n",
    "        print(\"max fitness of generation --> \", maxFitness)\n",
    "        print(\"\\n\")\n",
    "        \n",
    "        "
   ]
  },
  {
   "cell_type": "code",
   "execution_count": null,
   "metadata": {},
   "outputs": [],
   "source": []
  },
  {
   "cell_type": "code",
   "execution_count": null,
   "metadata": {},
   "outputs": [],
   "source": []
  }
 ],
 "metadata": {
  "kernelspec": {
   "display_name": "Python 3",
   "language": "python",
   "name": "python3"
  },
  "language_info": {
   "codemirror_mode": {
    "name": "ipython",
    "version": 3
   },
   "file_extension": ".py",
   "mimetype": "text/x-python",
   "name": "python",
   "nbconvert_exporter": "python",
   "pygments_lexer": "ipython3",
   "version": "3.7.4"
  }
 },
 "nbformat": 4,
 "nbformat_minor": 2
}
