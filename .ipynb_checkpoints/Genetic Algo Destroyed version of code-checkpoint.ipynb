{
 "cells": [
  {
   "cell_type": "code",
   "execution_count": null,
   "metadata": {},
   "outputs": [],
   "source": [
    "# Five phases are considered in a genetic algorithm.\n",
    "# Initial population\n",
    "# Fitness function\n",
    "# Selection\n",
    "# Crossover\n",
    "# Mutation"
   ]
  },
  {
   "cell_type": "code",
   "execution_count": null,
   "metadata": {},
   "outputs": [],
   "source": [
    "import random"
   ]
  },
  {
   "cell_type": "code",
   "execution_count": null,
   "metadata": {},
   "outputs": [],
   "source": [
    "def generateBinaryString(bits):\n",
    "    s = \"\"\n",
    "    for _ in range(bits):\n",
    "        # randomly generate 0 or 1 and append to our string\n",
    "        randomNum = int(random.random()*2)\n",
    "        s = s + str(randomNum)\n",
    "    return s\n",
    "    "
   ]
  },
  {
   "cell_type": "code",
   "execution_count": null,
   "metadata": {},
   "outputs": [],
   "source": [
    "def calculateFitness(s): \n",
    "    return int(s,2) "
   ]
  },
  {
   "cell_type": "code",
   "execution_count": null,
   "metadata": {},
   "outputs": [],
   "source": [
    "def getPopulation(n,noOfbits):\n",
    "    arr=[]\n",
    "    for element in range(n):\n",
    "        # create our string and we will randomly select 0 or 1 eight times\n",
    "        s=\"\"\n",
    "        s=generateBinaryString(noOfbits)\n",
    "        arr.append(s)\n",
    "#         arr.append(calculateFitness(s))\n",
    "        \n",
    "    return arr"
   ]
  },
  {
   "cell_type": "code",
   "execution_count": null,
   "metadata": {},
   "outputs": [],
   "source": [
    "def getPopulationWithFitness(arr,noOfPopulations,bits):\n",
    "    \n",
    "#     print(\"Initial population --> \",arr)\n",
    "    #calculating fitness\n",
    "#     fit_arr=[]\n",
    "    fit={}  \n",
    "    for i in range(len(arr)):\n",
    "#         fit_arr.append(calculateFitness(arr[i]))\n",
    "        fit[arr[i]]=calculateFitness(arr[i])\n",
    "\n",
    "#     print(\"fitness values of population --> \",fit_arr)\n",
    "    return fit"
   ]
  },
  {
   "cell_type": "code",
   "execution_count": null,
   "metadata": {},
   "outputs": [],
   "source": [
    "def get2Darr(arr):\n",
    "    return arr"
   ]
  },
  {
   "cell_type": "code",
   "execution_count": null,
   "metadata": {},
   "outputs": [],
   "source": [
    "# main\n",
    "\n",
    "#take input\n",
    "noOfPopulations=int(input(\"enter no of initial populations: \"))\n",
    "bits=int(input(\"enter bits: \"))\n",
    "\n",
    "arr=getPopulation(noOfPopulations,bits)\n",
    "fit=getPopulationWithFitness(arr,noOfPopulations,bits)\n",
    "print(fit)\n",
    "# print(noOfPopulations)"
   ]
  },
  {
   "cell_type": "code",
   "execution_count": null,
   "metadata": {},
   "outputs": [],
   "source": [
    "# find min value and remove it from 'fit' dictionary   (bits,fit) and return fit\n",
    "minVal=pow(2,bits)-1\n",
    "maxVal=0\n",
    "for i in fit.keys():\n",
    "    minVal=min(minVal,fit[i])\n",
    "    maxVal=max(maxVal,fit[i])\n",
    "\n",
    "# get min binary key against min value & delete it from dictionary\n",
    "x=[k for k,v in fit.items() if v == minVal]\n",
    "mn=x.pop()\n",
    "fit.pop(mn)\n",
    "arr.remove(mn)\n",
    "\n",
    "# get max binary key against max value & delete it from dictionary\n",
    "y=[k for k,v in fit.items() if v == maxVal]\n",
    "mx=y.pop()\n",
    "arr.append(mx)\n",
    "print(arr)\n",
    "\n"
   ]
  },
  {
   "cell_type": "code",
   "execution_count": null,
   "metadata": {},
   "outputs": [],
   "source": [
    "# print fitness after deleting and getting updated array\n",
    "\n",
    "print(fit)"
   ]
  },
  {
   "cell_type": "code",
   "execution_count": null,
   "metadata": {},
   "outputs": [],
   "source": []
  },
  {
   "cell_type": "code",
   "execution_count": null,
   "metadata": {},
   "outputs": [],
   "source": [
    "# get max binary value against max value\n",
    "# y=[k for k,v in fit.items() if v == maxVal]\n",
    "# mx=y.pop()\n",
    "\n",
    "# max select karke append kardia(n ka count maintain karna hai)\n",
    "# do do ka pair loon (har bin/2 ka aakhri part swap kardoon)\n",
    "# mutation max wale k andar 0 ko 1 kardoon\n",
    "# 255 k barabar aarahi tou break the loop 2^n-1\n",
    "# agar nhi aata tou fitness---mutation repeat hoga\n",
    "\n"
   ]
  },
  {
   "cell_type": "code",
   "execution_count": null,
   "metadata": {},
   "outputs": [],
   "source": []
  }
 ],
 "metadata": {
  "kernelspec": {
   "display_name": "Python 3",
   "language": "python",
   "name": "python3"
  },
  "language_info": {
   "codemirror_mode": {
    "name": "ipython",
    "version": 3
   },
   "file_extension": ".py",
   "mimetype": "text/x-python",
   "name": "python",
   "nbconvert_exporter": "python",
   "pygments_lexer": "ipython3",
   "version": "3.7.4"
  }
 },
 "nbformat": 4,
 "nbformat_minor": 2
}
