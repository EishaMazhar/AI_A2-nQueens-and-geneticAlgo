{
 "cells": [
  {
   "cell_type": "code",
   "execution_count": 1,
   "metadata": {},
   "outputs": [],
   "source": [
    "# Five phases are considered in a genetic algorithm.\n",
    "# Initial population\n",
    "# Fitness function\n",
    "# Selection\n",
    "# Crossover\n",
    "# Mutation"
   ]
  },
  {
   "cell_type": "code",
   "execution_count": 2,
   "metadata": {},
   "outputs": [],
   "source": [
    "import random"
   ]
  },
  {
   "cell_type": "code",
   "execution_count": 3,
   "metadata": {},
   "outputs": [],
   "source": [
    "def eightBitStrings(n):\n",
    "    arr=[]\n",
    "    for element in range(n):\n",
    "        # create our string and we will randomly select 0 or 1 eight times\n",
    "        s = \"\"\n",
    "        for _ in range(8):\n",
    "            # randomly generate 0 or 1 and append to our string\n",
    "            randomNum = int(random.random()*2)\n",
    "            s = s + str(randomNum)\n",
    "\n",
    "        arr.append(s)\n",
    "        \n",
    "    return arr"
   ]
  },
  {
   "cell_type": "code",
   "execution_count": 4,
   "metadata": {},
   "outputs": [],
   "source": [
    "def calculateFitness(s): \n",
    "    return int(s,2) "
   ]
  },
  {
   "cell_type": "code",
   "execution_count": 5,
   "metadata": {},
   "outputs": [
    {
     "name": "stdout",
     "output_type": "stream",
     "text": [
      "enter no of initial populations: 7\n"
     ]
    }
   ],
   "source": [
    "noOfPopulations=int(input(\"enter no of initial populations: \"))\n",
    "# print(noOfPopulations)"
   ]
  },
  {
   "cell_type": "code",
   "execution_count": 28,
   "metadata": {},
   "outputs": [
    {
     "name": "stdout",
     "output_type": "stream",
     "text": [
      "Initial population -->  ['00000011', '10100000', '01011010', '01111001', '01100101', '11000111', '01001011']\n"
     ]
    }
   ],
   "source": [
    "arr=eightBitStrings(noOfPopulations)\n",
    "print(\"Initial population --> \",arr)"
   ]
  },
  {
   "cell_type": "code",
   "execution_count": 29,
   "metadata": {},
   "outputs": [
    {
     "name": "stdout",
     "output_type": "stream",
     "text": [
      "fitness values of population -->  [3, 160, 90, 121, 101, 199, 75]\n"
     ]
    }
   ],
   "source": [
    "#calculating fitness\n",
    "\n",
    "fit_arr=[]\n",
    "# f=[f.append(calculateFitness(arr[i])) for i in range(len(arr))]\n",
    "for i in range(len(arr)):\n",
    "    fit_arr.append(calculateFitness(arr[i]))\n",
    "    \n",
    "print(\"fitness values of population --> \",fit_arr)"
   ]
  },
  {
   "cell_type": "code",
   "execution_count": 30,
   "metadata": {},
   "outputs": [
    {
     "name": "stdout",
     "output_type": "stream",
     "text": [
      "min fitness --> 3\n",
      "index of min fitness -->  0\n"
     ]
    }
   ],
   "source": [
    "print(\"min fitness -->\",min(fit_arr))\n",
    "print(\"index of min fitness --> \",fit_arr.index(min(fit_arr)))"
   ]
  },
  {
   "cell_type": "code",
   "execution_count": null,
   "metadata": {},
   "outputs": [],
   "source": []
  }
 ],
 "metadata": {
  "kernelspec": {
   "display_name": "Python 3",
   "language": "python",
   "name": "python3"
  },
  "language_info": {
   "codemirror_mode": {
    "name": "ipython",
    "version": 3
   },
   "file_extension": ".py",
   "mimetype": "text/x-python",
   "name": "python",
   "nbconvert_exporter": "python",
   "pygments_lexer": "ipython3",
   "version": "3.7.4"
  }
 },
 "nbformat": 4,
 "nbformat_minor": 2
}
